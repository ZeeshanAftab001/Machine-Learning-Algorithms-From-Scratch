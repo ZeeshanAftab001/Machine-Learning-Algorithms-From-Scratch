{
 "cells": [
  {
   "cell_type": "code",
   "execution_count": 2,
   "id": "4dc2ec6a-16f7-494d-9fb6-949ba00d2602",
   "metadata": {},
   "outputs": [],
   "source": [
    "import numpy as np \n",
    "import pandas as pd \n",
    "from sklearn.model_selection import train_test_split\n",
    "from sklearn.linear_model import SGDRegressor\n",
    "from sklearn.datasets import load_diabetes\n",
    "from sklearn.metrics import r2_score"
   ]
  },
  {
   "cell_type": "code",
   "execution_count": 3,
   "id": "c2b812e4-a6c9-4a47-a99d-b8ca212d454d",
   "metadata": {},
   "outputs": [],
   "source": [
    "X,y=load_diabetes(return_X_y=True)\n"
   ]
  },
  {
   "cell_type": "code",
   "execution_count": 10,
   "id": "952f2b53-657f-4717-b6bd-4e0fdc618b72",
   "metadata": {},
   "outputs": [],
   "source": [
    "X_train,X_test,y_train,y_test=train_test_split(X,y,test_size=0.2,random_state=2)"
   ]
  },
  {
   "cell_type": "code",
   "execution_count": 25,
   "id": "c93fc076-3dfe-4819-8dc4-e6b788bb537d",
   "metadata": {},
   "outputs": [],
   "source": [
    "y_train.shape\n",
    "import random"
   ]
  },
  {
   "cell_type": "code",
   "execution_count": 33,
   "id": "a548f455-325e-474e-a8f2-21bca266b7aa",
   "metadata": {},
   "outputs": [],
   "source": [
    "class MBSGD_Regressor: \n",
    "    def __init__(self,batch_size,learning_rate=0.5,epoch=25):\n",
    "        self.coef_=None\n",
    "        self.intercept_=None\n",
    "        self.lr=learning_rate\n",
    "        self.epoch=epoch\n",
    "        self.batch_size=batch_size\n",
    "\n",
    "    def fit(self,X_train,y_train):\n",
    "        self.intercept_=0                           \n",
    "        self.coef_=np.ones(X_train.shape[1])\n",
    "        for i in range(self.epoch):\n",
    "            for j in range(int(X_train.shape[0]/self.batch_size)):\n",
    "\n",
    "                idx=np.random.sample(range(X_train.shape[0],self.batch_size))\n",
    "                \n",
    "                y_hat=np.dot(X_train[idx],self.coef_)+self.intercept_\n",
    "                intercept_der=-2*(y_train[idx]-y_hat)\n",
    "                self.intercept_=self.intercept_-self.lr*intercept_der\n",
    "                coef_der=-2*(y_train[idx]-y_hat)*X_train[idx]\n",
    "                self.coef_=self.coef_-self.lr*coef_der\n",
    "    def predict(self,X_test):\n",
    "            return np.dot(X_train,self.coef_)+self.intercept_\n",
    "        import numpy as np\n",
    "\n",
    "class MBSGD_Regressor: \n",
    "    def __init__(self, batch_size, learning_rate=0.5, epoch=25):\n",
    "        self.coef_ = None\n",
    "        self.intercept_ = None\n",
    "        self.lr = learning_rate\n",
    "        self.epoch = epoch\n",
    "        self.batch_size = batch_size\n",
    "\n",
    "    def fit(self, X_train, y_train):\n",
    "        self.intercept_ = 0                           \n",
    "        self.coef_ = np.ones(X_train.shape[1])\n",
    "        for i in range(self.epoch):\n",
    "            for j in range(int(X_train.shape[0] / self.batch_size)):\n",
    "                idx = np.random.choice(range(X_train.shape[0]), self.batch_size, replace=False)\n",
    "                X_batch = \n",
    "                y_batch = \n",
    "                y_hat = np.dot(X_train[idx], self.coef_) + self.intercept_\n",
    "                intercept_der = -2 * np.sum(y_train[idx] - y_hat)\n",
    "                self.intercept_ = self.intercept_ - self.lr * intercept_der / self.batch_size\n",
    "                coef_der = -2 * np.dot((y_train[idx] - y_hat), X_train[idx])\n",
    "                self.coef_ = self.coef_ - self.lr * coef_der / self.batch_size\n",
    "\n",
    "    def predict(self, X_test):\n",
    "        return np.dot(X_test, self.coef_) + self.intercept_\n"
   ]
  },
  {
   "cell_type": "code",
   "execution_count": 34,
   "id": "1453928e-44cd-47e8-a903-298ccf6ca3c9",
   "metadata": {},
   "outputs": [],
   "source": [
    "model=MBSGD_Regressor(batch_size=int(X_train.shape[0]/10))"
   ]
  },
  {
   "cell_type": "code",
   "execution_count": 35,
   "id": "631559b6-d0f7-4a88-9e27-68127f9cdd11",
   "metadata": {},
   "outputs": [],
   "source": [
    "model.fit(X_train,y_train)"
   ]
  },
  {
   "cell_type": "code",
   "execution_count": 36,
   "id": "c909f826-3534-4f4d-8f2a-212ec7858a31",
   "metadata": {},
   "outputs": [],
   "source": [
    "y_pred=model.predict(X_test)"
   ]
  },
  {
   "cell_type": "code",
   "execution_count": 37,
   "id": "37abaf19-c422-4007-a441-4ef8e83bfe34",
   "metadata": {},
   "outputs": [
    {
     "data": {
      "text/plain": [
       "(89, 10)"
      ]
     },
     "execution_count": 37,
     "metadata": {},
     "output_type": "execute_result"
    }
   ],
   "source": [
    "X_test.shape"
   ]
  },
  {
   "cell_type": "code",
   "execution_count": 38,
   "id": "22e450fa-7318-4e7c-911b-91b934610ab3",
   "metadata": {},
   "outputs": [
    {
     "data": {
      "text/plain": [
       "(89,)"
      ]
     },
     "execution_count": 38,
     "metadata": {},
     "output_type": "execute_result"
    }
   ],
   "source": [
    "y_test.shape"
   ]
  },
  {
   "cell_type": "code",
   "execution_count": 39,
   "id": "4837fc10-e8e6-4436-8fb9-8cf9576dcbfb",
   "metadata": {},
   "outputs": [],
   "source": [
    "y_pred=y_pred[0:89]"
   ]
  },
  {
   "cell_type": "code",
   "execution_count": 40,
   "id": "d134744b-8496-4a10-8f01-59025e19f1eb",
   "metadata": {},
   "outputs": [
    {
     "data": {
      "text/plain": [
       "array([159.53459082, 193.53032757, 148.1982581 , 116.00449214,\n",
       "       240.18140703, 234.3153736 , 111.77855764, 120.06380656,\n",
       "        99.77987259, 188.27532651, 168.04179463, 176.90592816,\n",
       "       189.2916417 , 160.0882236 , 246.09077626, 101.74530631,\n",
       "       186.24725462, 141.37929835, 146.41464502, 146.60131095,\n",
       "       134.47106311, 198.27581474, 176.01145286, 183.52790087,\n",
       "       132.38187541, 220.49676421, 196.12761455, 132.59021681,\n",
       "        75.49055882, 243.32417941, 236.7290664 , 127.56948104,\n",
       "        85.2276562 , 121.52724328, 200.61496039, 171.90561657,\n",
       "       173.01828331, 200.86053721, 122.96357007, 232.17111945,\n",
       "       139.61766317, 134.85892683, 189.36664823, 189.55645374,\n",
       "       174.16849586, 152.39428107, 178.5934496 , 272.14713047,\n",
       "       127.33236135, 198.74400159, 231.46795769, 133.65152801,\n",
       "       147.07939217, 161.51571334, 192.7130051 , 125.27932623,\n",
       "       168.1179163 ,  95.78187135, 162.77890409, 146.57001934,\n",
       "       169.27068915, 179.32937143, 120.4837897 , 203.32845866,\n",
       "       164.20082883, 165.36772295, 152.94258005, 191.3376854 ,\n",
       "       126.91919118, 152.59325299, 202.03900847, 187.25590853,\n",
       "       127.37352978, 153.82279   , 144.59385578, 122.25524125,\n",
       "        94.79984944, 100.96095934, 175.16358117,  99.45066616,\n",
       "       108.61273216, 119.33248042, 165.64477041, 254.90126473,\n",
       "       199.78753236, 143.89043122, 243.90309089, 184.8949844 ,\n",
       "       125.79565922])"
      ]
     },
     "execution_count": 40,
     "metadata": {},
     "output_type": "execute_result"
    }
   ],
   "source": [
    "y_pred"
   ]
  },
  {
   "cell_type": "code",
   "execution_count": 41,
   "id": "f8b7ee70-b966-41e5-97c5-3b4b9f0ea3e9",
   "metadata": {},
   "outputs": [
    {
     "data": {
      "text/plain": [
       "0.41200360607852804"
      ]
     },
     "execution_count": 41,
     "metadata": {},
     "output_type": "execute_result"
    }
   ],
   "source": [
    "r2_score(y_test,y_pred)"
   ]
  },
  {
   "cell_type": "code",
   "execution_count": 42,
   "id": "32add01a-4aa6-496e-89bf-816d708dd826",
   "metadata": {},
   "outputs": [
    {
     "ename": "NameError",
     "evalue": "name 'model1' is not defined",
     "output_type": "error",
     "traceback": [
      "\u001b[1;31m---------------------------------------------------------------------------\u001b[0m",
      "\u001b[1;31mNameError\u001b[0m                                 Traceback (most recent call last)",
      "Cell \u001b[1;32mIn[42], line 1\u001b[0m\n\u001b[1;32m----> 1\u001b[0m \u001b[43mmodel1\u001b[49m\u001b[38;5;241m.\u001b[39mfit(X_train,y_train)\n",
      "\u001b[1;31mNameError\u001b[0m: name 'model1' is not defined"
     ]
    }
   ],
   "source": [
    "model1.fit(X_train,y_train)"
   ]
  },
  {
   "cell_type": "code",
   "execution_count": 43,
   "id": "7330d9c9-aeb8-4758-8c14-9b3f66faeeb4",
   "metadata": {},
   "outputs": [
    {
     "ename": "NameError",
     "evalue": "name 'model1' is not defined",
     "output_type": "error",
     "traceback": [
      "\u001b[1;31m---------------------------------------------------------------------------\u001b[0m",
      "\u001b[1;31mNameError\u001b[0m                                 Traceback (most recent call last)",
      "Cell \u001b[1;32mIn[43], line 1\u001b[0m\n\u001b[1;32m----> 1\u001b[0m y_pred\u001b[38;5;241m=\u001b[39m\u001b[43mmodel1\u001b[49m\u001b[38;5;241m.\u001b[39mpredict(X_test)\n",
      "\u001b[1;31mNameError\u001b[0m: name 'model1' is not defined"
     ]
    }
   ],
   "source": [
    "y_pred=model1.predict(X_test)"
   ]
  },
  {
   "cell_type": "code",
   "execution_count": 44,
   "id": "3cf8b48e-41d2-487e-b502-1846e8874c98",
   "metadata": {},
   "outputs": [
    {
     "data": {
      "text/plain": [
       "0.41200360607852804"
      ]
     },
     "execution_count": 44,
     "metadata": {},
     "output_type": "execute_result"
    }
   ],
   "source": [
    "r2_score(y_test,y_pred)"
   ]
  },
  {
   "cell_type": "code",
   "execution_count": null,
   "id": "9ae9ae88-2174-4cab-b51d-34d273e0a3f9",
   "metadata": {},
   "outputs": [],
   "source": []
  }
 ],
 "metadata": {
  "kernelspec": {
   "display_name": "Python 3 (ipykernel)",
   "language": "python",
   "name": "python3"
  },
  "language_info": {
   "codemirror_mode": {
    "name": "ipython",
    "version": 3
   },
   "file_extension": ".py",
   "mimetype": "text/x-python",
   "name": "python",
   "nbconvert_exporter": "python",
   "pygments_lexer": "ipython3",
   "version": "3.11.7"
  },
  "widgets": {
   "application/vnd.jupyter.widget-state+json": {
    "state": {},
    "version_major": 2,
    "version_minor": 0
   }
  }
 },
 "nbformat": 4,
 "nbformat_minor": 5
}
