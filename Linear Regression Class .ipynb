{
 "cells": [
  {
   "cell_type": "code",
   "execution_count": 199,
   "id": "bb40b1a9-8b44-407e-b490-12e8ab772e6a",
   "metadata": {},
   "outputs": [],
   "source": [
    "import numpy as np\n",
    "import pandas as pd \n",
    "from sklearn.model_selection import train_test_split\n",
    "from sklearn.metrics import accuracy_score\n",
    "import matplotlib.pyplot as plt \n",
    "from sklearn.datasets import load_breast_cancer"
   ]
  },
  {
   "cell_type": "code",
   "execution_count": 200,
   "id": "1ac54104-752f-483b-8cb1-080a4dc9e0bb",
   "metadata": {},
   "outputs": [],
   "source": [
    "class myLinearRegression:\n",
    "    \n",
    "    def __init__(self):\n",
    "        self.intercept_=None\n",
    "        self.coef_=None\n",
    "    def fit(self,X_train,y_train):\n",
    "        X_train=np.insert(X_train,0,1,axis=1)\n",
    "        Betas=np.linalg.inv(np.dot(X_train.T,X_train)).dot(X_train.T).dot(y_train)\n",
    "        self.intercept_=Betas[0]\n",
    "        self.coef_=Betas[1:]\n",
    "        print(self.intercept_,self.coef_)\n",
    "    def predict(self,X_test):\n",
    "        return np.dot(X_test,self.coef_)+self.intercept_"
   ]
  },
  {
   "cell_type": "code",
   "execution_count": 201,
   "id": "c4bc27d8-f871-412b-9b9d-c9144e80f099",
   "metadata": {},
   "outputs": [],
   "source": [
    "model=myLinearRegression()"
   ]
  },
  {
   "cell_type": "code",
   "execution_count": 202,
   "id": "e50d6a6b-66de-4cd5-9014-efef440ea6b2",
   "metadata": {},
   "outputs": [],
   "source": [
    "X,y=load_breast_cancer(return_X_y=True)"
   ]
  },
  {
   "cell_type": "code",
   "execution_count": 203,
   "id": "bc1c513c-80a8-4d57-af86-182617c9c106",
   "metadata": {},
   "outputs": [
    {
     "data": {
      "text/plain": [
       "array([[1.799e+01, 1.038e+01, 1.228e+02, ..., 2.654e-01, 4.601e-01,\n",
       "        1.189e-01],\n",
       "       [2.057e+01, 1.777e+01, 1.329e+02, ..., 1.860e-01, 2.750e-01,\n",
       "        8.902e-02],\n",
       "       [1.969e+01, 2.125e+01, 1.300e+02, ..., 2.430e-01, 3.613e-01,\n",
       "        8.758e-02],\n",
       "       ...,\n",
       "       [1.660e+01, 2.808e+01, 1.083e+02, ..., 1.418e-01, 2.218e-01,\n",
       "        7.820e-02],\n",
       "       [2.060e+01, 2.933e+01, 1.401e+02, ..., 2.650e-01, 4.087e-01,\n",
       "        1.240e-01],\n",
       "       [7.760e+00, 2.454e+01, 4.792e+01, ..., 0.000e+00, 2.871e-01,\n",
       "        7.039e-02]])"
      ]
     },
     "execution_count": 203,
     "metadata": {},
     "output_type": "execute_result"
    }
   ],
   "source": [
    "X"
   ]
  },
  {
   "cell_type": "code",
   "execution_count": 204,
   "id": "d72b51e3-48d6-4ae2-be32-5438aa742c8c",
   "metadata": {},
   "outputs": [],
   "source": [
    "X_train,X_test,y_train,y_test=train_test_split(X,y,test_size=0.2,random_state=2)"
   ]
  },
  {
   "cell_type": "code",
   "execution_count": 205,
   "id": "eb4223e3-d161-4456-a9d4-7ddf870d72af",
   "metadata": {},
   "outputs": [
    {
     "name": "stdout",
     "output_type": "stream",
     "text": [
      "3.100346627012153 [ 2.63071692e-01 -4.88377000e-03 -1.33003262e-02 -1.07076073e-03\n",
      " -6.86599822e-01  6.16678190e+00 -2.40501296e+00 -3.13492753e+00\n",
      " -6.82065144e-01 -3.28898650e+00 -4.80093109e-03 -1.42074280e-02\n",
      "  1.48368787e-02 -4.76766166e-04 -1.04578255e+01 -4.71283457e-01\n",
      "  4.69324328e+00 -1.42350898e+01 -4.00853378e+00 -1.35235714e+00\n",
      " -2.88780760e-01 -4.82535410e-03  1.50873693e-05  1.65884633e-03\n",
      " -1.47696056e+00 -7.28927163e-01 -3.22904293e-01  7.54683941e-01\n",
      " -1.50056063e-01 -9.33205262e-01]\n"
     ]
    }
   ],
   "source": [
    "model.fit(X_train,y_train)"
   ]
  },
  {
   "cell_type": "code",
   "execution_count": 206,
   "id": "746059e4-d236-4a8d-a8d0-9fc88919473d",
   "metadata": {},
   "outputs": [],
   "source": [
    "y_pred=model.predict(X_test)"
   ]
  },
  {
   "cell_type": "code",
   "execution_count": 207,
   "id": "f78198c2-105f-4d90-a437-5af58f4a7d47",
   "metadata": {},
   "outputs": [],
   "source": [
    "from sklearn.metrics import r2_score"
   ]
  },
  {
   "cell_type": "code",
   "execution_count": 208,
   "id": "ec4745ab-b732-40b7-8882-32172add4a09",
   "metadata": {},
   "outputs": [
    {
     "data": {
      "text/plain": [
       "0.7131067020194043"
      ]
     },
     "execution_count": 208,
     "metadata": {},
     "output_type": "execute_result"
    }
   ],
   "source": [
    "r2_score(y_test,y_pred)"
   ]
  },
  {
   "cell_type": "code",
   "execution_count": null,
   "id": "eec9f1e0-d7be-4866-ab24-26ed00d11a22",
   "metadata": {},
   "outputs": [],
   "source": []
  },
  {
   "cell_type": "code",
   "execution_count": null,
   "id": "9d8718d4-2ae7-4b65-831e-ba525367b79e",
   "metadata": {},
   "outputs": [],
   "source": []
  }
 ],
 "metadata": {
  "kernelspec": {
   "display_name": "Python 3 (ipykernel)",
   "language": "python",
   "name": "python3"
  },
  "language_info": {
   "codemirror_mode": {
    "name": "ipython",
    "version": 3
   },
   "file_extension": ".py",
   "mimetype": "text/x-python",
   "name": "python",
   "nbconvert_exporter": "python",
   "pygments_lexer": "ipython3",
   "version": "3.11.7"
  },
  "widgets": {
   "application/vnd.jupyter.widget-state+json": {
    "state": {},
    "version_major": 2,
    "version_minor": 0
   }
  }
 },
 "nbformat": 4,
 "nbformat_minor": 5
}
