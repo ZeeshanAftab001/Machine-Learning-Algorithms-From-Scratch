{
 "cells": [
  {
   "cell_type": "code",
   "execution_count": 28,
   "id": "e9f01fc0-9570-4fb1-869c-380921bdc1d1",
   "metadata": {},
   "outputs": [],
   "source": [
    "import numpy as np \n",
    "from sklearn.datasets import load_breast_cancer\n",
    "import pandas as pd \n",
    "from sklearn.model_selection import train_test_split\n",
    "from sklearn.metrics import r2_score"
   ]
  },
  {
   "cell_type": "code",
   "execution_count": 29,
   "id": "918592f7-9d23-40af-828b-f84dc5c356ad",
   "metadata": {},
   "outputs": [],
   "source": [
    "X,y=load_breast_cancer(return_X_y=True)"
   ]
  },
  {
   "cell_type": "code",
   "execution_count": 30,
   "id": "b82a169c-048f-486b-af09-4c85ff016ff4",
   "metadata": {},
   "outputs": [],
   "source": [
    "X_train,X_test,y_train,y_test=train_test_split(X,y,test_size=0.2,random_state=2)"
   ]
  },
  {
   "cell_type": "code",
   "execution_count": 31,
   "id": "77ac3934-6389-45ac-8c77-9987f1f56c8d",
   "metadata": {},
   "outputs": [],
   "source": [
    "def step(z):\n",
    "    return 1 if x>0 else 0"
   ]
  },
  {
   "cell_type": "code",
   "execution_count": 32,
   "id": "eb18f537-3f82-47a5-98e4-74b0684a273e",
   "metadata": {},
   "outputs": [],
   "source": [
    "import numpy as np\n",
    "\n",
    "def step(x):\n",
    "    return 1 if x >= 0 else 0\n",
    "\n",
    "class Perceptron_trick:\n",
    "    def __init__(self, learning_rate, epochs):\n",
    "        self.lr = learning_rate\n",
    "        self.epochs = epochs\n",
    "        self.weights = None\n",
    "\n",
    "    def fit(self, X_train, y_train, X_test):\n",
    "        X_train = np.insert(X_train, 0, 1, axis=1)  # Add bias term\n",
    "        self.weights = np.ones(X_train.shape[1])\n",
    "        self.coef_ = None\n",
    "        self.intercept_ = None\n",
    "\n",
    "        for _ in range(self.epochs):\n",
    "            idx = np.random.randint(0, X_train.shape[0])\n",
    "            y_hat = step(np.dot(X_train[idx], self.weights))\n",
    "            self.weights += self.lr * (y_train[idx] - y_hat) * X_train[idx]\n",
    "\n",
    "        self.coef_ = self.weights[1:]\n",
    "        self.intercept_ = self.weights[0]\n",
    "\n",
    "        m = -self.coef_[0] / self.coef_[1]\n",
    "        b = -self.intercept_ / self.coef_[1]\n",
    "        return np.dot(X_test, m) + b\n"
   ]
  },
  {
   "cell_type": "code",
   "execution_count": 33,
   "id": "1862bbce-f13b-4fef-9e91-c7eba7a279a6",
   "metadata": {},
   "outputs": [],
   "source": [
    "model=Perceptron_trick(0.1,1000)\n",
    "y_pred=model.fit(X_train,y_train,X_test)"
   ]
  }
 ],
 "metadata": {
  "kernelspec": {
   "display_name": "Python 3 (ipykernel)",
   "language": "python",
   "name": "python3"
  },
  "language_info": {
   "codemirror_mode": {
    "name": "ipython",
    "version": 3
   },
   "file_extension": ".py",
   "mimetype": "text/x-python",
   "name": "python",
   "nbconvert_exporter": "python",
   "pygments_lexer": "ipython3",
   "version": "3.11.7"
  },
  "widgets": {
   "application/vnd.jupyter.widget-state+json": {
    "state": {},
    "version_major": 2,
    "version_minor": 0
   }
  }
 },
 "nbformat": 4,
 "nbformat_minor": 5
}
